{
 "cells": [
  {
   "cell_type": "markdown",
   "metadata": {},
   "source": [
    "## RUN - Nuclear NICD Bleaching"
   ]
  },
  {
   "cell_type": "markdown",
   "metadata": {},
   "source": [
    "### Notes\n",
    "\n",
    "- This is basically the same as `RUN - nuclear nicd measurement.ipynb` but without the complication of endpoint measurements"
   ]
  },
  {
   "cell_type": "markdown",
   "metadata": {},
   "source": [
    "### Prep"
   ]
  },
  {
   "cell_type": "code",
   "execution_count": null,
   "metadata": {},
   "outputs": [],
   "source": [
    "# Imports\n",
    "\n",
    "import os, csv\n",
    "\n",
    "import numpy as np\n",
    "import scipy.ndimage as ndi\n",
    "\n",
    "from skimage import io\n",
    "from skimage.filters import threshold_otsu\n",
    "from skimage.morphology import disk"
   ]
  },
  {
   "cell_type": "code",
   "execution_count": null,
   "metadata": {},
   "outputs": [],
   "source": [
    "# Parameters\n",
    "\n",
    "img_dir = r'..\\Data\\Images\\HisGFP\\bleaching control'\n",
    "out_dir = r'..\\Data\\Measurements\\HisGFP\\bleaching control'\n",
    "\n",
    "camera_noise = 10    # Max intensity to still be considered \"dark current\"\n",
    "min_line_pxls = 100  # Min non-\"dark current\" pixels per line to not be cropped away\n",
    "\n",
    "target_slice = 13  # His-GFP stack slice index"
   ]
  },
  {
   "cell_type": "code",
   "execution_count": null,
   "metadata": {},
   "outputs": [],
   "source": [
    "# Find all relevant dirs and files\n",
    "\n",
    "# Get all file paths\n",
    "walk = os.walk(img_dir)\n",
    "\n",
    "# Create a dict for all samples\n",
    "path_dict = dict()\n",
    "for w in walk:\n",
    "    for f in w[-1]:\n",
    "        if 'His-GFP' in f:\n",
    "            path_dict[w[0]] = dict()\n",
    "\n",
    "# All relevant files\n",
    "for dpath in path_dict:\n",
    "    for f in os.listdir(dpath):\n",
    "        if 'His-GFP timeseries' in f:\n",
    "            path_dict[dpath]['nuc'] = f\n",
    "        elif 'mCh-NICD timeseries' in f:\n",
    "            path_dict[dpath]['nicd'] = f\n",
    "    if len(path_dict[dpath]) != 2:\n",
    "        raise Exception(\"Incorrect number of files found for this path!\")\n",
    "\n",
    "# Report\n",
    "for dpath in path_dict:\n",
    "    print(dpath)\n",
    "    for fkey in path_dict[dpath]:\n",
    "        print('    {:<4}'.format(fkey), '--', path_dict[dpath][fkey])"
   ]
  },
  {
   "cell_type": "code",
   "execution_count": null,
   "metadata": {},
   "outputs": [],
   "source": [
    "# Manually annotate active pulse times\n",
    "pulse_indices_manual = [0,1,2,3,4,16,17,18,19,20,32,33,34,35,36]\n",
    "pulse_times_manual = [0,1,2,3,4,15,16,17,18,19,30,31,32,33,34]"
   ]
  },
  {
   "cell_type": "markdown",
   "metadata": {},
   "source": [
    "### Helper Functions"
   ]
  },
  {
   "cell_type": "code",
   "execution_count": null,
   "metadata": {},
   "outputs": [],
   "source": [
    "def crop_camera(img, ref_img, camera_noise, min_line_pxls):\n",
    "    \n",
    "    if ref_img.ndim == 2:\n",
    "        crop_mask = np.sum(ref_img > camera_noise, axis=1) >= min_line_pxls\n",
    "    elif ref_img.ndim == 3:\n",
    "        crop_mask = np.sum(ref_img[0] > camera_noise, axis=1) >= min_line_pxls\n",
    "    else:\n",
    "        raise Exception(\"Unanticipated dimensionality of ref_img:\", ref_img.ndim)\n",
    "        \n",
    "    img = img[..., crop_mask, :]\n",
    "    \n",
    "    return img"
   ]
  },
  {
   "cell_type": "markdown",
   "metadata": {},
   "source": [
    "### Pipeline Function"
   ]
  },
  {
   "cell_type": "code",
   "execution_count": null,
   "metadata": {},
   "outputs": [],
   "source": [
    "def run_pipeline(dpath, fnames, target_slice, batch_name,\n",
    "                 camera_noise=10, min_line_pxls=100):\n",
    "    \n",
    "    # Report\n",
    "    print(\"\\nWorking on:\", dpath)\n",
    "    \n",
    "    # Load data\n",
    "    data = {}\n",
    "    for fkey in fnames:\n",
    "        img = io.imread(os.path.join(dpath, fnames[fkey]))\n",
    "        data[fkey] = img\n",
    "    \n",
    "    # Select relevant data\n",
    "    if batch_name == 'Continuous':\n",
    "        data['nuc'] = data['nuc'][::2, target_slice, :, :]\n",
    "    if batch_name == 'Pulsatile':\n",
    "        data['nuc'] = data['nuc'][::2, target_slice, :, :]\n",
    "        data['nicd'] = data['nicd'][pulse_indices_manual, :, :]\n",
    "        \n",
    "    # For some samples, there is a mismatch in length of nuc and nicd...\n",
    "    if data['nicd'].shape[0] != data['nuc'].shape[0]:\n",
    "        max_len = min([data['nicd'].shape[0], data['nuc'].shape[0]])\n",
    "        data['nuc']  = data['nuc'][:max_len]\n",
    "        data['nicd'] = data['nicd'][:max_len]\n",
    "    \n",
    "    # Crop top and bottom\n",
    "    ref_img = data['nuc'].copy()\n",
    "    print(\"-- (y,x) cropped from\", ref_img[0].shape, end=' ')\n",
    "    for fkey in data:\n",
    "        data[fkey] = crop_camera(data[fkey], ref_img, camera_noise, min_line_pxls)\n",
    "    print(\"to\", data['nuc'][0].shape)\n",
    "    \n",
    "    # Report what has been loaded\n",
    "    print(\"-- Loaded and prepped arrays have these shapes:\")\n",
    "    for dkey in data:\n",
    "        print(\"   \", dkey+':', data[dkey].shape)\n",
    "    \n",
    "    # Gaussian smoothing\n",
    "    data['nuc_smooth'] = np.array([ndi.gaussian_filter(data['nuc'][t], 2) \n",
    "                                   for t in range(data['nuc'].shape[0])])\n",
    "    \n",
    "    # Otsu thresholding\n",
    "    threshold = threshold_otsu(data['nuc_smooth'].flatten())\n",
    "    data['nuc_mask']  = data['nuc_smooth'] > threshold\n",
    "    \n",
    "    # Getting whole cells (incl. cytoplasm)\n",
    "    data['all_mask'] = np.array([ndi.binary_dilation(data['nuc_mask'][t], \n",
    "                                                     structure=disk(10, dtype=np.bool))\n",
    "                                 for t in range(data['nuc'].shape[0])])\n",
    "    data['cyt_mask'] = data['all_mask'] ^ data['nuc_mask']\n",
    "    print(\"-- Completed image processing steps\")\n",
    "    \n",
    "    # Save resulting segmentation (for QC)\n",
    "    qc_out = np.array([data['nuc_mask'], data['nuc'], data['nicd']])\n",
    "    qc_out = np.moveaxis(qc_out, [0,1], [1,0])\n",
    "    io.imsave(os.path.join(dpath, 'QC_segmentation.tif'), qc_out)\n",
    "    print(\"-- Saved segmentations for QC\")\n",
    "\n",
    "    # Get more conservative masks to avoid misattribution\n",
    "    data['nuc_mask_cons'] = np.array([ndi.binary_erosion(data['nuc_mask'][t], \n",
    "                                                         structure=disk(5, dtype=np.bool))\n",
    "                                      for t in range(data['nuc'].shape[0])])\n",
    "    data['nuc_mask_dilated'] = np.array([ndi.binary_dilation(data['nuc_mask'][t], \n",
    "                                                                structure=disk(3, dtype=np.bool))\n",
    "                                            for t in range(data['nuc'].shape[0])])\n",
    "    data['cyt_mask_cons'] = data['all_mask'] ^ data['nuc_mask_dilated']\n",
    "    \n",
    "    # Get measurements over time\n",
    "    m = measurements = dict()\n",
    "    measurements['nuc_nicd_sum']  = [data['nicd'][t][data['nuc_mask'][t]].sum() \n",
    "                                     for t in range(data['nuc'].shape[0])]\n",
    "    measurements['nuc_nicd_mean'] = [data['nicd'][t][data['nuc_mask_cons'][t]].mean() \n",
    "                                     for t in range(data['nuc'].shape[0])]\n",
    "    measurements['nuc_area']      = data['nuc_mask'].sum(axis=(-1, -2))\n",
    "    \n",
    "    measurements['cyt_nicd_sum']  = [data['nicd'][t][data['cyt_mask'][t]].sum() \n",
    "                                     for t in range(data['nuc'].shape[0])]\n",
    "    measurements['cyt_nicd_mean'] = [data['nicd'][t][data['cyt_mask_cons'][t]].mean() \n",
    "                                     for t in range(data['nuc'].shape[0])]\n",
    "    measurements['cyt_area']      = data['cyt_mask'].sum(axis=(-1, -2))\n",
    "\n",
    "    measurements['all_nicd_sum']  = [data['nicd'][t][data['all_mask'][t]].sum() \n",
    "                                     for t in range(data['nuc'].shape[0])]\n",
    "    measurements['all_nicd_mean'] = [data['nicd'][t][data['all_mask'][t]].mean() \n",
    "                                     for t in range(data['nuc'].shape[0])]\n",
    "    measurements['all_area']      = data['all_mask'].sum(axis=(-1, -2))\n",
    "\n",
    "    # Convert lists to arrays\n",
    "    for mkey in measurements:\n",
    "        if isinstance(m[mkey], list):\n",
    "            m[mkey] = np.array(m[mkey])\n",
    "    \n",
    "    # Prepare for saving\n",
    "    sample_number = dpath[-1]\n",
    "    fname_midfix = '_NICDbleach'\n",
    "    dpath_out = dpath.replace(os.path.relpath(img_dir), os.path.relpath(out_dir))\n",
    "    fpath_out = os.path.join(dpath_out, sample_number + '_'+batch_name + fname_midfix+'.tsv')\n",
    "    if not os.path.isdir(dpath_out):\n",
    "        os.makedirs(dpath_out)\n",
    "    \n",
    "    # Save results\n",
    "    with open(fpath_out, 'w', newline='') as outfile:\n",
    "        writer = csv.writer(outfile, delimiter='\\t')\n",
    "        measurement_keys = [mkey for mkey in measurements.keys()]\n",
    "        writer.writerow(['time_step'] + measurement_keys)\n",
    "        for t in range(len(measurements['nuc_nicd_sum'])):\n",
    "            if batch_name == 'Continuous':\n",
    "                data = [t] + [m[mkey][t] for mkey in measurement_keys]\n",
    "            if batch_name == 'Pulsatile':\n",
    "                data = [pulse_times_manual[t]] + [m[mkey][t] for mkey in measurement_keys]\n",
    "            writer.writerow(data)\n",
    "\n",
    "    print(\"-- Finished!\")"
   ]
  },
  {
   "cell_type": "markdown",
   "metadata": {},
   "source": [
    "### Execution Loop"
   ]
  },
  {
   "cell_type": "code",
   "execution_count": null,
   "metadata": {
    "scrolled": false
   },
   "outputs": [],
   "source": [
    "for dpath in path_dict:\n",
    "    \n",
    "    if 'bleaching_continuous' in dpath:\n",
    "        batch_name = 'Continuous'\n",
    "    elif 'bleaching_pulsatile' in dpath:\n",
    "        batch_name = 'Pulsatile'\n",
    "        \n",
    "    run_pipeline(dpath, path_dict[dpath], target_slice, batch_name,\n",
    "                 camera_noise=camera_noise, min_line_pxls=min_line_pxls)"
   ]
  }
 ],
 "metadata": {
  "kernelspec": {
   "display_name": "Python 3",
   "language": "python",
   "name": "python3"
  },
  "language_info": {
   "codemirror_mode": {
    "name": "ipython",
    "version": 3
   },
   "file_extension": ".py",
   "mimetype": "text/x-python",
   "name": "python",
   "nbconvert_exporter": "python",
   "pygments_lexer": "ipython3",
   "version": "3.7.3"
  }
 },
 "nbformat": 4,
 "nbformat_minor": 2
}
