{
 "cells": [
  {
   "cell_type": "markdown",
   "metadata": {},
   "source": [
    "## DEV - *sim* Spot Detection"
   ]
  },
  {
   "cell_type": "markdown",
   "metadata": {},
   "source": [
    "### Notes\n",
    "\n",
    "- Outline of approach\n",
    "    1. Adaptive background subtraction using heavily Gaussian-smoothed background\n",
    "    2. Spot detection with `skimage.feature.blob_log`\n",
    "    4. Compute various measurements"
   ]
  },
  {
   "cell_type": "markdown",
   "metadata": {},
   "source": [
    "### Prep"
   ]
  },
  {
   "cell_type": "code",
   "execution_count": null,
   "metadata": {},
   "outputs": [],
   "source": [
    "# Imports\n",
    "\n",
    "import numpy as np\n",
    "import matplotlib.pyplot as plt\n",
    "import scipy.ndimage as ndi\n",
    "\n",
    "from skimage import io\n",
    "from skimage.feature import blob_log\n",
    "from skimage.filters import threshold_li\n",
    "\n",
    "from ipywidgets import interact"
   ]
  },
  {
   "cell_type": "code",
   "execution_count": null,
   "metadata": {},
   "outputs": [],
   "source": [
    "# Input file path for test file\n",
    "\n",
    "fpath = r'..\\Data\\Images\\Sim\\Continuous\\1_early_sim timeseries stacks_zmax.tif'"
   ]
  },
  {
   "cell_type": "code",
   "execution_count": null,
   "metadata": {},
   "outputs": [],
   "source": [
    "# Load time course\n",
    "\n",
    "img = io.imread(fpath)\n",
    "print(img.shape, img.dtype)"
   ]
  },
  {
   "cell_type": "code",
   "execution_count": null,
   "metadata": {},
   "outputs": [],
   "source": [
    "# Show time course\n",
    "\n",
    "@interact(t=(0,img.shape[0]-1,1))\n",
    "def show_timecourse(t=0, show=False):\n",
    "    if show:\n",
    "        fig = plt.figure(figsize=(12,12))\n",
    "        plt.imshow(img[t], cmap='gray')\n",
    "        plt.title('raw')\n",
    "        plt.show()        "
   ]
  },
  {
   "cell_type": "markdown",
   "metadata": {},
   "source": [
    "### Adaptive Background Subtraction\n",
    "\n",
    "Note: I've tried doing some Gaussian smoothing prior to this, but it didn't make a difference or was even a bit detrimental to the spot detection."
   ]
  },
  {
   "cell_type": "code",
   "execution_count": null,
   "metadata": {},
   "outputs": [],
   "source": [
    "# Apply background subtraction\n",
    "\n",
    "bg = np.array([ndi.gaussian_filter(img[z], 10) for z in range(img.shape[0])])\n",
    "img_bgsub = img - bg\n",
    "img_bgsub[img < bg] = 0"
   ]
  },
  {
   "cell_type": "code",
   "execution_count": null,
   "metadata": {},
   "outputs": [],
   "source": [
    "# Show results\n",
    "\n",
    "@interact(t=(0,img.shape[0]-1,1))\n",
    "def show_timecourse(t=0, show=False):\n",
    "    if show:\n",
    "        plt.figure(figsize=(12,12))\n",
    "        plt.imshow(img_bgsub[t], cmap='gray')\n",
    "        plt.title('bgsub')\n",
    "        plt.show()"
   ]
  },
  {
   "cell_type": "markdown",
   "metadata": {},
   "source": [
    "### Spot Detection"
   ]
  },
  {
   "cell_type": "code",
   "execution_count": null,
   "metadata": {},
   "outputs": [],
   "source": [
    "# Initial test of blob_log\n",
    "\n",
    "# Try it\n",
    "test_t = 33\n",
    "blobs_test = blob_log(img_bgsub[test_t], min_sigma=0.7, max_sigma=5, overlap=0.0)\n",
    "\n",
    "# Show the result\n",
    "plt.figure(figsize=(12,12))\n",
    "plt.imshow(img_bgsub[test_t], cmap='gray')\n",
    "plt.scatter(blobs_test[:,1], blobs_test[:,0], marker='o', facecolor='none', edgecolor='r')\n",
    "plt.title('blob_log')\n",
    "plt.show()"
   ]
  },
  {
   "cell_type": "code",
   "execution_count": null,
   "metadata": {},
   "outputs": [],
   "source": [
    "# Elbow plot to determine min_sigma\n",
    "\n",
    "# Run it\n",
    "counts = []\n",
    "min_sigma_space = np.linspace(0.1, 1.5, 40)\n",
    "for min_sigma in min_sigma_space:\n",
    "    blobs_elbow = blob_log(img_bgsub[test_t], min_sigma=min_sigma, max_sigma=5, overlap=0)\n",
    "    counts.append(blobs_elbow.shape[0])\n",
    "    \n",
    "# Show it\n",
    "plt.plot(min_sigma_space, counts)\n",
    "plt.xlabel('min_sigma')\n",
    "plt.ylabel('spots detected')\n",
    "plt.xlim(0.1, 1.0)\n",
    "plt.show()\n",
    "\n",
    "# ->> Detection is robust at min_sigma >= 0.6; using 0.7"
   ]
  },
  {
   "cell_type": "code",
   "execution_count": null,
   "metadata": {},
   "outputs": [],
   "source": [
    "# Detect blobs across time course\n",
    "\n",
    "blobs = [blob_log(img_bgsub[t], min_sigma=0.7, max_sigma=5) for t in range(img.shape[0])]"
   ]
  },
  {
   "cell_type": "code",
   "execution_count": null,
   "metadata": {},
   "outputs": [],
   "source": [
    "# Show result\n",
    "\n",
    "@interact(t=(0,img.shape[0]-1,1))\n",
    "def show_timecourse(t=0, show=False):\n",
    "    if show:\n",
    "        plt.figure(figsize=(12,12))\n",
    "        plt.imshow(img_bgsub[t], cmap='gray')\n",
    "        plt.scatter(blobs[t][:,1], blobs[t][:,0], marker='o', facecolor='none', edgecolor='r')\n",
    "        plt.title('bgsub')\n",
    "        plt.show()"
   ]
  },
  {
   "cell_type": "markdown",
   "metadata": {},
   "source": [
    "### Compute Measurements"
   ]
  },
  {
   "cell_type": "markdown",
   "metadata": {},
   "source": [
    "#### Create Bounding Boxes"
   ]
  },
  {
   "cell_type": "code",
   "execution_count": null,
   "metadata": {},
   "outputs": [],
   "source": [
    "# Test out bounding box cutting\n",
    "\n",
    "# Select test spot\n",
    "test_t = 33\n",
    "test_spot = 120\n",
    "\n",
    "# Get test spot\n",
    "coords = blobs[test_t][test_spot][:2]\n",
    "\n",
    "# Get size as 3*sigma, either individual or aggregate\n",
    "size = 3 * blobs[test_t][test_spot][2]\n",
    "#size = 3 * np.percentile(np.concatenate(blobs)[:,2], 90)\n",
    "#size = 3 * np.median(np.concatenate(blobs)[:,2])\n",
    "\n",
    "# Create bounding box\n",
    "bbox_x = slice(int(np.floor(coords[1]-size/2)), int(np.ceil(coords[1]+size/2)))\n",
    "bbox_y = slice(int(np.floor(coords[0]-size/2)), int(np.ceil(coords[0]+size/2)))\n",
    "cut = img_bgsub[test_t, bbox_y, bbox_x]\n",
    "\n",
    "# Show\n",
    "plt.imshow(cut, cmap='gray')\n",
    "plt.show()"
   ]
  },
  {
   "cell_type": "code",
   "execution_count": null,
   "metadata": {},
   "outputs": [],
   "source": [
    "# Generate all bounding boxes\n",
    "\n",
    "median_sigma = np.median(np.concatenate(blobs)[:,2])\n",
    "pct90_sigma = np.percentile(np.concatenate(blobs)[:,2], 90)\n",
    "\n",
    "bbox_dict = {'median_sigma' : [],\n",
    "             'pct90_sigma'  : [],\n",
    "             'indiv_sigma'  : []}\n",
    "\n",
    "for t in range(img.shape[0]):\n",
    "    \n",
    "    bboxes_median = []\n",
    "    bboxes_pct90  = []\n",
    "    bboxes_indiv  = []\n",
    "    \n",
    "    for spot in range(blobs[t].shape[0]):\n",
    "        \n",
    "        coords = blobs[t][spot][:2]\n",
    "        \n",
    "        size = 3 * median_sigma\n",
    "        bbox_x = slice(int(np.floor(coords[1]-size/2)), int(np.ceil(coords[1]+size/2)))\n",
    "        bbox_y = slice(int(np.floor(coords[0]-size/2)), int(np.ceil(coords[0]+size/2)))\n",
    "        bboxes_median.append((bbox_y, bbox_x))\n",
    "        \n",
    "        size = 3 * pct90_sigma\n",
    "        bbox_x = slice(int(np.floor(coords[1]-size/2)), int(np.ceil(coords[1]+size/2)))\n",
    "        bbox_y = slice(int(np.floor(coords[0]-size/2)), int(np.ceil(coords[0]+size/2)))\n",
    "        bboxes_pct90.append((bbox_y, bbox_x))\n",
    "        \n",
    "        size = 3 * blobs[t][spot][2]\n",
    "        bbox_x = slice(int(np.floor(coords[1]-size/2)), int(np.ceil(coords[1]+size/2)))\n",
    "        bbox_y = slice(int(np.floor(coords[0]-size/2)), int(np.ceil(coords[0]+size/2)))\n",
    "        bboxes_indiv.append((bbox_y, bbox_x))\n",
    "        \n",
    "    bbox_dict['median_sigma'].append(bboxes_median)\n",
    "    bbox_dict['pct90_sigma'].append(bboxes_pct90)\n",
    "    bbox_dict['indiv_sigma'].append(bboxes_indiv)"
   ]
  },
  {
   "cell_type": "markdown",
   "metadata": {},
   "source": [
    "#### Measure Brightness"
   ]
  },
  {
   "cell_type": "code",
   "execution_count": null,
   "metadata": {},
   "outputs": [],
   "source": [
    "# Measure median and total brightness in bboxes\n",
    "\n",
    "for t in range(img.shape[0]):\n",
    "    \n",
    "    brightness_median = []\n",
    "    brightness_total  = []\n",
    "    \n",
    "    for spot in range(blobs[t].shape[0]):\n",
    "        \n",
    "        # For median brightness, use individual bboxes\n",
    "        bbox_y, bbox_x = bbox_dict['indiv_sigma'][t][spot]\n",
    "        cut = img[t, bbox_y, bbox_x]\n",
    "        brightness_median.append(np.median(cut))\n",
    "        \n",
    "        # For total brightness, use median bboxes\n",
    "        bbox_y, bbox_x = bbox_dict['median_sigma'][t][spot]\n",
    "        cut = img[t, bbox_y, bbox_x]\n",
    "        brightness_total.append(np.sum(cut))\n",
    "    \n",
    "    # Convert results to array\n",
    "    blobs[t] = np.concatenate([blobs[t], np.array(brightness_median)[:, np.newaxis]], axis=-1)\n",
    "    blobs[t] = np.concatenate([blobs[t], np.array(brightness_total)[:, np.newaxis]], axis=-1)"
   ]
  },
  {
   "cell_type": "markdown",
   "metadata": {},
   "source": [
    "#### Measure Size (based on masking)"
   ]
  },
  {
   "cell_type": "code",
   "execution_count": null,
   "metadata": {},
   "outputs": [],
   "source": [
    "# Measure size based on masking\n",
    "\n",
    "# Aggregate pixels in bboxes for threshold calculation\n",
    "aggregated = np.array([], dtype=np.uint8)\n",
    "for t in range(img.shape[0]):\n",
    "    for  spot in range(blobs[t].shape[0]):\n",
    "        bbox_y, bbox_x = bbox_dict['pct90_sigma'][t][spot]\n",
    "        cut = img_bgsub[t, bbox_y, bbox_x]\n",
    "        aggregated = np.concatenate([aggregated, cut.flatten()])\n",
    "\n",
    "# Compute threshold with Li method (looks decent in histogram)\n",
    "thresh = threshold_li(aggregated)\n",
    "\n",
    "# Show hist\n",
    "plt.hist(aggregated, bins=256)\n",
    "plt.vlines(thresh, ymin=0, ymax=10000, color='r', linewidth=2)\n",
    "plt.ylim([0, 10000])\n",
    "plt.show()\n",
    "\n",
    "# Apply threshold and measure size\n",
    "for t in range(img.shape[0]):    \n",
    "    \n",
    "    size_mask = []\n",
    "    \n",
    "    for spot in range(blobs[t].shape[0]):\n",
    "        bbox_y, bbox_x = bbox_dict['pct90_sigma'][t][spot]\n",
    "        cut = img_bgsub[t, bbox_y, bbox_x]\n",
    "        mask = cut >= thresh\n",
    "        size_mask.append(np.sum(mask))\n",
    "    \n",
    "    blobs[t] = np.concatenate([blobs[t], np.array(size_mask)[:, np.newaxis]], axis=-1)"
   ]
  },
  {
   "cell_type": "markdown",
   "metadata": {},
   "source": [
    "### Check the Results"
   ]
  },
  {
   "cell_type": "code",
   "execution_count": null,
   "metadata": {},
   "outputs": [],
   "source": [
    "# Number of spots\n",
    "\n",
    "plt.figure(figsize=(10,5))\n",
    "\n",
    "plt.plot(range(img.shape[0]), [blobs[t].shape[0] for t in range(img.shape[0])])\n",
    "\n",
    "plt.title('spot count')\n",
    "plt.xlabel('time [steps]')\n",
    "plt.ylabel('number of detected SIM spots')\n",
    "\n",
    "plt.show()"
   ]
  },
  {
   "cell_type": "code",
   "execution_count": null,
   "metadata": {},
   "outputs": [],
   "source": [
    "# Brightness of spots (median)\n",
    "\n",
    "plt.figure(figsize=(10,5))\n",
    "\n",
    "# Plot every spot\n",
    "for t in range(img.shape[0]):\n",
    "    plt.scatter([t for _ in range(blobs[t].shape[0])], blobs[t][:,3], \n",
    "                c='teal', alpha=0.25, s=5)\n",
    "\n",
    "# Plot median and mean\n",
    "plt.plot(range(img.shape[0]), [np.median(blobs[t][:,3]) if blobs[t][:,3].size>0 else np.nan \n",
    "                               for t in range(img.shape[0])], \n",
    "         alpha=0.75, lw=2, label='median')\n",
    "plt.plot(range(img.shape[0]), [np.mean(blobs[t][:,3]) if blobs[t][:,3].size>0 else np.nan \n",
    "                               for t in range(img.shape[0])], \n",
    "         alpha=0.75, lw=2, label='mean')\n",
    "\n",
    "# Cosmetics\n",
    "plt.legend()\n",
    "plt.title('brightness (median)')\n",
    "plt.xlabel('time [steps]')\n",
    "plt.ylabel('brightness of detected SIM spots')\n",
    "\n",
    "plt.show()"
   ]
  },
  {
   "cell_type": "code",
   "execution_count": null,
   "metadata": {},
   "outputs": [],
   "source": [
    "# Brightness of spots (sum)\n",
    "\n",
    "plt.figure(figsize=(10,5))\n",
    "\n",
    "# Plot every spot\n",
    "for t in range(img.shape[0]):\n",
    "    plt.scatter([t for _ in range(blobs[t].shape[0])], blobs[t][:,4], \n",
    "                c='teal', alpha=0.25, s=5)\n",
    "\n",
    "# Plot median and mean\n",
    "plt.plot(range(img.shape[0]), [np.median(blobs[t][:,4]) if blobs[t][:,4].size>0 else np.nan \n",
    "                               for t in range(img.shape[0])], \n",
    "         alpha=0.75, lw=2, label='median')\n",
    "plt.plot(range(img.shape[0]), [np.mean(blobs[t][:,4]) if blobs[t][:,4].size>0 else np.nan \n",
    "                               for t in range(img.shape[0])], \n",
    "         alpha=0.75, lw=2, label='mean')\n",
    "\n",
    "# Cosmetics\n",
    "plt.legend()\n",
    "plt.title('brightness (sum)')\n",
    "plt.xlabel('time [steps]')\n",
    "plt.ylabel('brightness of detected SIM spots')\n",
    "\n",
    "plt.show()"
   ]
  },
  {
   "cell_type": "code",
   "execution_count": null,
   "metadata": {
    "scrolled": false
   },
   "outputs": [],
   "source": [
    "# Size of spots (mask)\n",
    "\n",
    "plt.figure(figsize=(10,5))\n",
    "\n",
    "# Plot every spot\n",
    "for t in range(img.shape[0]):\n",
    "    plt.scatter([t for _ in range(blobs[t].shape[0])], blobs[t][:,5], \n",
    "                c='teal', alpha=0.25, s=5)\n",
    "    \n",
    "# Plot median and mean\n",
    "plt.plot(range(img.shape[0]), [np.median(blobs[t][:,5]) if blobs[t][:,5].size>0 else np.nan \n",
    "                               for t in range(img.shape[0])], \n",
    "         alpha=0.75, lw=2, label='median')\n",
    "plt.plot(range(img.shape[0]), [np.mean(blobs[t][:,5]) if blobs[t][:,5].size>0 else np.nan \n",
    "                               for t in range(img.shape[0])], \n",
    "         alpha=0.75, lw=2, label='mean')\n",
    "\n",
    "# Cosmetics\n",
    "plt.legend()\n",
    "plt.title('size (mask)')\n",
    "plt.xlabel('time [steps]')\n",
    "plt.ylabel('numer of foreground pixels per detected SIM spot')\n",
    "\n",
    "plt.show()"
   ]
  }
 ],
 "metadata": {
  "kernelspec": {
   "display_name": "Python 3",
   "language": "python",
   "name": "python3"
  },
  "language_info": {
   "codemirror_mode": {
    "name": "ipython",
    "version": 3
   },
   "file_extension": ".py",
   "mimetype": "text/x-python",
   "name": "python",
   "nbconvert_exporter": "python",
   "pygments_lexer": "ipython3",
   "version": "3.7.3"
  }
 },
 "nbformat": 4,
 "nbformat_minor": 2
}
