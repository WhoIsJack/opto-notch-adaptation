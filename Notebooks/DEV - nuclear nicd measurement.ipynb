{
 "cells": [
  {
   "cell_type": "markdown",
   "metadata": {},
   "source": [
    "## DEV - Nuclear NICD Measurement"
   ]
  },
  {
   "cell_type": "markdown",
   "metadata": {},
   "source": [
    "### Notes\n",
    "\n",
    "- Outline of approach\n",
    "    1. Nuclei segmentation based on His::GFP channel\n",
    "        1. Gaussian smoothing\n",
    "        2. Otsu thresholding\n",
    "    2. Get cytoplasmic regions by dilation of nuclei\n",
    "    3. Compute various measurements"
   ]
  },
  {
   "cell_type": "markdown",
   "metadata": {},
   "source": [
    "### Prep"
   ]
  },
  {
   "cell_type": "code",
   "execution_count": null,
   "metadata": {},
   "outputs": [],
   "source": [
    "# Imports\n",
    "\n",
    "import os\n",
    "\n",
    "import numpy as np\n",
    "import matplotlib.pyplot as plt\n",
    "import scipy.ndimage as ndi\n",
    "\n",
    "from skimage import io\n",
    "from skimage.filters import threshold_otsu\n",
    "from skimage.morphology import disk\n",
    "\n",
    "from ipywidgets import interact"
   ]
  },
  {
   "cell_type": "code",
   "execution_count": null,
   "metadata": {},
   "outputs": [],
   "source": [
    "# Input file path for test files\n",
    "\n",
    "dpath = r'../Data/Images/HisGFP/5min export/1/'\n",
    "\n",
    "fnames = {'nuc_on'   : r'1b-His-gfp timeseries_zstack evry 30 s for 10 min.tif',\n",
    "          'nuc_off'  : r'1e-Final His-gfp.tif',\n",
    "          'nicd_on'  : r'1a-mch-NICD-import_every min for 10 mins.tif',\n",
    "          'nicd_off' : r'1d-Final mch-NICD.tif'}\n",
    "\n",
    "slice_ann_fpath  = r'../Data/Images/HisGFP/5min export/matched_planes.txt'\n",
    "slice_ann_sample = 1"
   ]
  },
  {
   "cell_type": "code",
   "execution_count": null,
   "metadata": {},
   "outputs": [],
   "source": [
    "# Parameters\n",
    "\n",
    "# Cropping of empty space\n",
    "camera_noise  =  10  \n",
    "min_line_pxls = 100"
   ]
  },
  {
   "cell_type": "code",
   "execution_count": null,
   "metadata": {},
   "outputs": [],
   "source": [
    "# Load data\n",
    "\n",
    "data = {}\n",
    "for fkey in fnames:\n",
    "    img = io.imread(os.path.join(dpath, fnames[fkey]))\n",
    "    data[fkey] = img\n",
    "    print(fkey, img.shape, img.dtype)"
   ]
  },
  {
   "cell_type": "code",
   "execution_count": null,
   "metadata": {},
   "outputs": [],
   "source": [
    "# Select relevant data\n",
    "\n",
    "# Matching slices from nuc stacks\n",
    "slice_ann = np.loadtxt(slice_ann_fpath, skiprows=1, delimiter=',', dtype=int)\n",
    "target_slice = slice_ann[slice_ann_sample-1,1] - 1\n",
    "print('Using target slice:', target_slice)\n",
    "\n",
    "# Only every other tp in nuc on\n",
    "data['nuc_on']  = data['nuc_on'][::2, target_slice, :,:]\n",
    "\n",
    "# Only the first tp in nuc off\n",
    "data['nuc_off'] = data['nuc_off'][0, target_slice, :,:]\n",
    "\n",
    "for fkey in data:\n",
    "    print(fkey, data[fkey].shape)"
   ]
  },
  {
   "cell_type": "code",
   "execution_count": null,
   "metadata": {
    "scrolled": false
   },
   "outputs": [],
   "source": [
    "# Crop top and bottom\n",
    "# Note: For consistency, use nuc_on to generate the mask for all images\n",
    "\n",
    "def crop_camera(img, ref_img, camera_noise, min_line_pxls):\n",
    "    \n",
    "    print('  Before:', img.shape)\n",
    "    \n",
    "    if ref_img.ndim == 2:\n",
    "        crop_mask = np.sum(ref_img > camera_noise, axis=1) >= min_line_pxls\n",
    "    elif ref_img.ndim == 3:\n",
    "        crop_mask = np.sum(ref_img[0] > camera_noise, axis=1) >= min_line_pxls\n",
    "    else:\n",
    "        raise Exception(\"Unanticipated dimensionality of ref_img:\", ref_img.ndim)\n",
    "        \n",
    "    img = img[..., crop_mask, :]\n",
    "    \n",
    "    print('  After: ', img.shape)\n",
    "    \n",
    "    return img\n",
    "    \n",
    "ref_img = data['nuc_on'].copy()\n",
    "for fkey in data:\n",
    "    print(fkey)\n",
    "    data[fkey] = crop_camera(data[fkey], ref_img, camera_noise, min_line_pxls)"
   ]
  },
  {
   "cell_type": "code",
   "execution_count": null,
   "metadata": {},
   "outputs": [],
   "source": [
    "# Show time course\n",
    "\n",
    "@interact(ch=['nuc_on','nuc_off','nicd_on','nicd_off'], \n",
    "          t=(0, data['nuc_on'].shape[0]-1, 1), \n",
    "          show=False)\n",
    "def show_timecourse(ch='nuc_on', t=0, show=False):\n",
    "    if show:\n",
    "        \n",
    "        fig = plt.figure(figsize=(12,12))\n",
    "        \n",
    "        if 'on' in ch:\n",
    "            plt.imshow(data[ch][t], cmap='gray')\n",
    "        else:\n",
    "            plt.imshow(data[ch], cmap='gray')\n",
    "            \n",
    "        plt.title('raw')\n",
    "        plt.show()        "
   ]
  },
  {
   "cell_type": "markdown",
   "metadata": {},
   "source": [
    "### Gaussian Smoothing"
   ]
  },
  {
   "cell_type": "code",
   "execution_count": null,
   "metadata": {},
   "outputs": [],
   "source": [
    "# Apply smoothing\n",
    "\n",
    "data['nuc_on_smooth'] = np.array([ndi.gaussian_filter(data['nuc_on'][t], 2) \n",
    "                                  for t in range(data['nuc_on'].shape[0])])\n",
    "\n",
    "data['nuc_off_smooth'] = ndi.gaussian_filter(data['nuc_off'], 2)"
   ]
  },
  {
   "cell_type": "code",
   "execution_count": null,
   "metadata": {},
   "outputs": [],
   "source": [
    "# Show time course\n",
    "\n",
    "@interact(t=(0, data['nuc_on'].shape[0]-1, 1), show=False)\n",
    "def show_timecourse(t=0, show=False):\n",
    "    if show:\n",
    "        fig = plt.figure(figsize=(12,12))\n",
    "        plt.imshow(data['nuc_on_smooth'][t], cmap='gray')\n",
    "        #plt.imshow(data['nuc_off_smooth'], cmap='gray')\n",
    "        plt.title('smooth')\n",
    "        plt.show()        "
   ]
  },
  {
   "cell_type": "markdown",
   "metadata": {},
   "source": [
    "### Otsu Thresholding"
   ]
  },
  {
   "cell_type": "code",
   "execution_count": null,
   "metadata": {},
   "outputs": [],
   "source": [
    "# Analyze histograms\n",
    "\n",
    "# Init\n",
    "fig = plt.figure(figsize=(16,4))\n",
    "\n",
    "# Useful color list\n",
    "viridis_t = plt.cm.get_cmap('viridis', data['nuc_on'].shape[0]+1).colors\n",
    "\n",
    "# Histogram of `on` over time\n",
    "for t in range(data['nuc_on'].shape[0]):\n",
    "    plt.hist(data['nuc_on_smooth'][t].flatten(), \n",
    "             bins=255, range=(0, 255), \n",
    "             color=viridis_t[t], alpha=0.2,\n",
    "             histtype='step', lw=5)\n",
    "    \n",
    "# Histogram of `off`\n",
    "plt.hist(data['nuc_off_smooth'].flatten(), \n",
    "         bins=255, range=(0, 255), \n",
    "         color=viridis_t[-1], alpha=0.7,\n",
    "         histtype='step', lw=2)\n",
    "\n",
    "# Otsu thresholds for `on` over time\n",
    "for t in range(data['nuc_on'].shape[0]):\n",
    "    plt.vlines(threshold_otsu(data['nuc_on_smooth'][t].flatten()), 15000, 25000, \n",
    "               color=viridis_t[t], alpha=0.2)\n",
    "\n",
    "# Otsu threshold for `off`\n",
    "plt.vlines(threshold_otsu(data['nuc_off_smooth'].flatten()), 15000, 25000, \n",
    "           color=viridis_t[-1], alpha=1.0)\n",
    "\n",
    "# Global Otsu threshold for `on`\n",
    "plt.vlines(threshold_otsu(data['nuc_on_smooth'].flatten()), 0, 20000, \n",
    "           color='r', alpha=0.8)\n",
    "\n",
    "# Cosmetics\n",
    "plt.xlabel('Intensity (smoothed)')\n",
    "plt.ylabel('Number of pixels')\n",
    "#plt.xlim(0, 50)\n",
    "plt.show()\n",
    "\n",
    "# ->> Looks like using a global otsu threshold is appropriate."
   ]
  },
  {
   "cell_type": "code",
   "execution_count": null,
   "metadata": {},
   "outputs": [],
   "source": [
    "# Apply Otsu thresholding\n",
    "\n",
    "threshold = threshold_otsu(data['nuc_on_smooth'].flatten())\n",
    "data['nuc_on_mask']  = data['nuc_on_smooth'] > threshold\n",
    "data['nuc_off_mask'] = data['nuc_off_smooth'] > threshold"
   ]
  },
  {
   "cell_type": "code",
   "execution_count": null,
   "metadata": {},
   "outputs": [],
   "source": [
    "# Show time course\n",
    "\n",
    "@interact(t=(0, data['nuc_on'].shape[0]-1, 1), show=False)\n",
    "def show_timecourse(t=0, show=False):\n",
    "    if show:\n",
    "        fig = plt.figure(figsize=(12,12))\n",
    "        plt.imshow(data['nuc_on_mask'][t], cmap='gray')\n",
    "        #plt.imshow(data['nuc_off_mask'], cmap='gray')\n",
    "        plt.title('thresh')\n",
    "        plt.show()"
   ]
  },
  {
   "cell_type": "markdown",
   "metadata": {},
   "source": [
    "### Approximation of Cytoplasmic Region\n",
    "\n",
    "Just dividing nuclear vs. the rest of the image would be dangerous here because of variable amounts of empty space!"
   ]
  },
  {
   "cell_type": "code",
   "execution_count": null,
   "metadata": {},
   "outputs": [],
   "source": [
    "# Dilate nuclei and then remove them\n",
    "\n",
    "data['all_on_mask'] = np.array([ndi.binary_dilation(data['nuc_on_mask'][t], \n",
    "                                                    structure=disk(10, dtype=np.bool))\n",
    "                                for t in range(data['nuc_on'].shape[0])])\n",
    "data['cyt_on_mask'] = data['all_on_mask'] ^ data['nuc_on_mask']\n",
    "\n",
    "\n",
    "data['all_off_mask'] = ndi.binary_dilation(data['nuc_off_mask'], \n",
    "                                           structure=disk(10, dtype=np.bool))\n",
    "data['cyt_off_mask'] = data['all_off_mask'] ^ data['nuc_off_mask']"
   ]
  },
  {
   "cell_type": "code",
   "execution_count": null,
   "metadata": {},
   "outputs": [],
   "source": [
    "# Show time course\n",
    "\n",
    "@interact(t=(0, data['nuc_on'].shape[0]-1, 1), show=False)\n",
    "def show_timecourse(t=0, show=False):\n",
    "    if show:\n",
    "        \n",
    "        fig = plt.figure(figsize=(12,12))\n",
    "        \n",
    "        plt.imshow(data['cyt_on_mask'][t], cmap='gray')\n",
    "        plt.imshow(np.ma.array(data['nuc_on_mask'][t], \n",
    "                               mask=data['nuc_on_mask'][t]==0),\n",
    "                   cmap='viridis', vmin=0)\n",
    "        \n",
    "        #plt.imshow(data['cyt_off_mask'], cmap='gray')\n",
    "        #plt.imshow(np.ma.array(data['nuc_off_mask_cons'], \n",
    "        #                       mask=data['nuc_off_mask_cons']==0),\n",
    "        #           cmap='viridis', vmin=0)\n",
    "        \n",
    "        plt.title('cyto')\n",
    "        plt.show()"
   ]
  },
  {
   "cell_type": "code",
   "execution_count": null,
   "metadata": {},
   "outputs": [],
   "source": [
    "# Additional improvement; \n",
    "# making the masks more conservative (by erosion/dilation) to avoid mistakenly \n",
    "# attributing signal from the wrong region at the nucleus-cytoplasm boundary\n",
    "\n",
    "# Conservative nuclear mask\n",
    "data['nuc_on_mask_cons'] = np.array([ndi.binary_erosion(data['nuc_on_mask'][t], \n",
    "                                                        structure=disk(5, dtype=np.bool))\n",
    "                                     for t in range(data['nuc_on'].shape[0])])\n",
    "data['nuc_off_mask_cons'] = ndi.binary_erosion(data['nuc_off_mask'], \n",
    "                                               structure=disk(5, dtype=np.bool))\n",
    "\n",
    "# Conservative cytoplasmic mask\n",
    "data['nuc_on_mask_dilated'] = np.array([ndi.binary_dilation(data['nuc_on_mask'][t], \n",
    "                                                            structure=disk(3, dtype=np.bool))\n",
    "                                        for t in range(data['nuc_on'].shape[0])])\n",
    "data['cyt_on_mask_cons'] = data['all_on_mask'] ^ data['nuc_on_mask_dilated']\n",
    "\n",
    "data['nuc_off_mask_dilated'] = ndi.binary_dilation(data['nuc_off_mask'], \n",
    "                                                   structure=disk(3, dtype=np.bool))\n",
    "data['cyt_off_mask_cons'] = data['all_off_mask'] ^ data['nuc_off_mask_dilated']"
   ]
  },
  {
   "cell_type": "code",
   "execution_count": null,
   "metadata": {},
   "outputs": [],
   "source": [
    "# Show time course\n",
    "\n",
    "@interact(t=(0, data['nuc_on'].shape[0]-1, 1), show=False)\n",
    "def show_timecourse(t=0, show=False):\n",
    "    if show:\n",
    "        \n",
    "        fig = plt.figure(figsize=(12,12))\n",
    "        \n",
    "        plt.imshow(data['cyt_on_mask_cons'][t], cmap='gray')\n",
    "        plt.imshow(np.ma.array(data['nuc_on_mask_cons'][t], \n",
    "                               mask=data['nuc_on_mask_cons'][t]==0),\n",
    "                   cmap='viridis', vmin=0)\n",
    "        \n",
    "        #plt.imshow(data['cyt_off_mask_cons'], cmap='gray')\n",
    "        #plt.imshow(np.ma.array(data['nuc_off_mask_cons'], \n",
    "        #                       mask=data['nuc_off_mask_cons']==0),\n",
    "        #           cmap='viridis', vmin=0)\n",
    "        \n",
    "        plt.title('cyto conservative')\n",
    "        plt.show()"
   ]
  },
  {
   "cell_type": "markdown",
   "metadata": {},
   "source": [
    "### Compute Measurements"
   ]
  },
  {
   "cell_type": "code",
   "execution_count": null,
   "metadata": {},
   "outputs": [],
   "source": [
    "# Results dict\n",
    "m = measurements = {}\n",
    "\n",
    "# Get `on` measurements over time\n",
    "measurements['nuc_on_nicd_sum']  = [data['nicd_on'][t][data['nuc_on_mask_cons'][t]].sum() \n",
    "                                    for t in range(data['nuc_on'].shape[0])]\n",
    "measurements['nuc_on_nicd_mean'] = [data['nicd_on'][t][data['nuc_on_mask_cons'][t]].mean() \n",
    "                                    for t in range(data['nuc_on'].shape[0])]\n",
    "measurements['nuc_on_area']      = data['nuc_on_mask'].sum(axis=(-1, -2))\n",
    "\n",
    "measurements['cyt_on_nicd_sum']  = [data['nicd_on'][t][data['cyt_on_mask_cons'][t]].sum() \n",
    "                                    for t in range(data['nuc_on'].shape[0])]\n",
    "measurements['cyt_on_nicd_mean'] = [data['nicd_on'][t][data['cyt_on_mask_cons'][t]].mean() \n",
    "                                    for t in range(data['nuc_on'].shape[0])]\n",
    "measurements['cyt_on_area']      = data['cyt_on_mask'].sum(axis=(-1, -2))\n",
    "\n",
    "measurements['all_on_nicd_sum']  = [data['nicd_on'][t][data['all_on_mask'][t]].sum() \n",
    "                                    for t in range(data['nuc_on'].shape[0])]\n",
    "measurements['all_on_nicd_mean'] = [data['nicd_on'][t][data['all_on_mask'][t]].mean() \n",
    "                                    for t in range(data['nuc_on'].shape[0])]\n",
    "measurements['all_on_area']      = data['all_on_mask'].sum(axis=(-1, -2))\n",
    "\n",
    "measurements['img_on_nicd_sum']  = [data['nicd_on'][t].sum() \n",
    "                                    for t in range(data['nuc_on'].shape[0])]\n",
    "measurements['img_on_nicd_mean'] = [data['nicd_on'][t].mean() \n",
    "                                    for t in range(data['nuc_on'].shape[0])]\n",
    "measurements['img_on_area']      = data['all_on_mask'].size\n",
    "\n",
    "# Get `off` measurements\n",
    "measurements['nuc_off_nicd_sum']  = data['nicd_off'][data['nuc_off_mask_cons']].sum()\n",
    "measurements['nuc_off_nicd_mean'] = data['nicd_off'][data['nuc_off_mask_cons']].mean()\n",
    "measurements['nuc_off_area']      = data['nuc_off_mask'].sum()\n",
    "\n",
    "measurements['cyt_off_nicd_sum']  = data['nicd_off'][data['cyt_off_mask_cons']].sum()\n",
    "measurements['cyt_off_nicd_mean'] = data['nicd_off'][data['cyt_off_mask_cons']].mean()\n",
    "measurements['cyt_off_area']      = data['cyt_off_mask'].sum()\n",
    "\n",
    "measurements['all_off_nicd_sum']  = data['nicd_off'][data['all_off_mask']].sum()\n",
    "measurements['all_off_nicd_mean'] = data['nicd_off'][data['all_off_mask']].mean()\n",
    "measurements['all_off_area']      = data['all_off_mask'].sum()\n",
    "\n",
    "measurements['img_off_nicd_sum']  = data['nicd_off'].sum()\n",
    "measurements['img_off_nicd_mean'] = data['nicd_off'].mean()\n",
    "measurements['img_off_area']      = data['all_off_mask'].size\n",
    "\n",
    "# Convert lists to arrays\n",
    "for mkey in measurements:\n",
    "    if isinstance(m[mkey], list):\n",
    "        m[mkey] = np.array(m[mkey])"
   ]
  },
  {
   "cell_type": "markdown",
   "metadata": {},
   "source": [
    "### Check the Results"
   ]
  },
  {
   "cell_type": "code",
   "execution_count": null,
   "metadata": {},
   "outputs": [],
   "source": [
    "m_types = ['nicd_sum', 'nicd_mean', 'area']\n",
    "\n",
    "@interact(m_type=m_types)\n",
    "def show_measurements(m_type='nicd_sum'):\n",
    "    \n",
    "    plt.figure(figsize=(8,6))\n",
    "    \n",
    "    plt.plot(m['nuc_on_'+m_type], label='nuc')\n",
    "    plt.plot(m['cyt_on_'+m_type], label='cyt')\n",
    "    plt.plot(m['all_on_'+m_type], label='all')\n",
    "    #plt.plot(m['img_on_'+m_type], label='img')\n",
    "    \n",
    "    plt.scatter([15], m['nuc_off_'+m_type])\n",
    "    plt.scatter([15], m['cyt_off_'+m_type])\n",
    "    plt.scatter([15], m['all_off_'+m_type])\n",
    "    #plt.scatter([15], m['img_off_'+m_type])\n",
    "    \n",
    "    plt.legend()\n",
    "    plt.xlabel('time [min]')\n",
    "    plt.ylabel(m_type+' [...]')\n",
    "    plt.ylim([0, plt.gca().get_ylim()[1]])\n",
    "    \n",
    "    plt.show()\n",
    "    \n",
    "# ->> Ratios will need to be computed to correct for absolute intensities and cell movement.\n",
    "#     This is done in the corresponding ANA notebook."
   ]
  }
 ],
 "metadata": {
  "kernelspec": {
   "display_name": "Python 3",
   "language": "python",
   "name": "python3"
  },
  "language_info": {
   "codemirror_mode": {
    "name": "ipython",
    "version": 3
   },
   "file_extension": ".py",
   "mimetype": "text/x-python",
   "name": "python",
   "nbconvert_exporter": "python",
   "pygments_lexer": "ipython3",
   "version": "3.7.3"
  }
 },
 "nbformat": 4,
 "nbformat_minor": 2
}
